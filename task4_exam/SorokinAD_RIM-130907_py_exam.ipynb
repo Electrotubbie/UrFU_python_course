{
 "cells": [
  {
   "cell_type": "markdown",
   "metadata": {},
   "source": [
    "## Экзамен python. Сорокин А.Д. РИМ-130907"
   ]
  },
  {
   "cell_type": "code",
   "execution_count": 1,
   "metadata": {},
   "outputs": [],
   "source": [
    "import pandas as pd\n",
    "import matplotlib.pyplot as plt"
   ]
  },
  {
   "cell_type": "code",
   "execution_count": 2,
   "metadata": {},
   "outputs": [
    {
     "data": {
      "text/html": [
       "<div>\n",
       "<style scoped>\n",
       "    .dataframe tbody tr th:only-of-type {\n",
       "        vertical-align: middle;\n",
       "    }\n",
       "\n",
       "    .dataframe tbody tr th {\n",
       "        vertical-align: top;\n",
       "    }\n",
       "\n",
       "    .dataframe thead th {\n",
       "        text-align: right;\n",
       "    }\n",
       "</style>\n",
       "<table border=\"1\" class=\"dataframe\">\n",
       "  <thead>\n",
       "    <tr style=\"text-align: right;\">\n",
       "      <th></th>\n",
       "      <th>Т/Н</th>\n",
       "      <th>Должность</th>\n",
       "      <th>Ставка</th>\n",
       "      <th>Код  подразд.</th>\n",
       "      <th>Оклад (ставка) по основному месту работы</th>\n",
       "      <th>Оклад (ставка) на работе по совместительству</th>\n",
       "      <th>Всего. руб.</th>\n",
       "    </tr>\n",
       "  </thead>\n",
       "  <tbody>\n",
       "    <tr>\n",
       "      <th>683</th>\n",
       "      <td>302775</td>\n",
       "      <td>Доцент</td>\n",
       "      <td>1.45</td>\n",
       "      <td>170206.0</td>\n",
       "      <td>5173.68</td>\n",
       "      <td>2793.79</td>\n",
       "      <td>35919.20</td>\n",
       "    </tr>\n",
       "    <tr>\n",
       "      <th>450</th>\n",
       "      <td>3451</td>\n",
       "      <td>Доцент</td>\n",
       "      <td>0.30</td>\n",
       "      <td>17015.0</td>\n",
       "      <td>NaN</td>\n",
       "      <td>1361.53</td>\n",
       "      <td>3492.31</td>\n",
       "    </tr>\n",
       "    <tr>\n",
       "      <th>765</th>\n",
       "      <td>1711</td>\n",
       "      <td>Профессор</td>\n",
       "      <td>0.60</td>\n",
       "      <td>170204.0</td>\n",
       "      <td>6276.60</td>\n",
       "      <td>NaN</td>\n",
       "      <td>11800.01</td>\n",
       "    </tr>\n",
       "  </tbody>\n",
       "</table>\n",
       "</div>"
      ],
      "text/plain": [
       "        Т/Н  Должность  Ставка  Код  подразд.  \\\n",
       "683  302775     Доцент    1.45       170206.0   \n",
       "450    3451     Доцент    0.30        17015.0   \n",
       "765    1711  Профессор    0.60       170204.0   \n",
       "\n",
       "     Оклад (ставка) по основному месту работы  \\\n",
       "683                                   5173.68   \n",
       "450                                       NaN   \n",
       "765                                   6276.60   \n",
       "\n",
       "     Оклад (ставка) на работе по совместительству  Всего. руб.  \n",
       "683                                       2793.79     35919.20  \n",
       "450                                       1361.53      3492.31  \n",
       "765                                           NaN     11800.01  "
      ]
     },
     "execution_count": 2,
     "metadata": {},
     "output_type": "execute_result"
    }
   ],
   "source": [
    "df = pd.read_csv('salary_.csv', encoding='CP1251', sep=';')\n",
    "df.sample(3)"
   ]
  },
  {
   "cell_type": "markdown",
   "metadata": {},
   "source": [
    "### 1. (1 балл) Выведите Фонд оплаты труда(ФОТ):"
   ]
  },
  {
   "cell_type": "code",
   "execution_count": 3,
   "metadata": {},
   "outputs": [
    {
     "data": {
      "text/plain": [
       "12018196.17"
      ]
     },
     "execution_count": 3,
     "metadata": {},
     "output_type": "execute_result"
    }
   ],
   "source": [
    "# а) всей организации – float r1a;\n",
    "r1a = df['Всего. руб.'].sum()\n",
    "r1a"
   ]
  },
  {
   "cell_type": "code",
   "execution_count": 4,
   "metadata": {},
   "outputs": [
    {
     "data": {
      "text/plain": [
       "[{'Должность': 'Ассистент', 'Всего. руб.': 878028.88},\n",
       " {'Должность': 'Доцент', 'Всего. руб.': 6227156.38},\n",
       " {'Должность': 'Преподаватель', 'Всего. руб.': 564664.9},\n",
       " {'Должность': 'Профессор', 'Всего. руб.': 1540199.77},\n",
       " {'Должность': 'Старший преподаватель', 'Всего. руб.': 2808146.24}]"
      ]
     },
     "execution_count": 4,
     "metadata": {},
     "output_type": "execute_result"
    }
   ],
   "source": [
    "# б) в разрезе должностей – list r1b;\n",
    "r1b = df[['Должность', 'Всего. руб.']].groupby('Должность').sum().reset_index().to_dict('records', index='Должность')\n",
    "r1b"
   ]
  },
  {
   "cell_type": "code",
   "execution_count": 5,
   "metadata": {},
   "outputs": [
    {
     "data": {
      "text/plain": [
       "(10459905.26, 1558290.9100000001)"
      ]
     },
     "execution_count": 5,
     "metadata": {},
     "output_type": "execute_result"
    }
   ],
   "source": [
    "# в) ФОТ организации без учёта внешних совместителей – float r1c;\n",
    "# г) ФОТ внешних совместителей – float r1d.\n",
    "grouped_by_tb = df.groupby('Т/Н').sum()\n",
    "# у внешних совместителей основной оклад отсутствует и присутствует оклад по совместительству\n",
    "r1d = grouped_by_tb[(grouped_by_tb['Оклад (ставка) по основному месту работы'] == 0) &\n",
    "                    (grouped_by_tb['Оклад (ставка) на работе по совместительству'] != 0)]['Всего. руб.'].sum()\n",
    "# ФОТ организации был вычислен ранее, далее необходимо вычесть внешних совместителей\n",
    "r1c = r1a - r1d\n",
    "r1c, r1d\n"
   ]
  },
  {
   "cell_type": "code",
   "execution_count": 6,
   "metadata": {},
   "outputs": [
    {
     "data": {
      "text/plain": [
       "[12018196.17,\n",
       " [{'Должность': 'Ассистент', 'Всего. руб.': 878028.88},\n",
       "  {'Должность': 'Доцент', 'Всего. руб.': 6227156.38},\n",
       "  {'Должность': 'Преподаватель', 'Всего. руб.': 564664.9},\n",
       "  {'Должность': 'Профессор', 'Всего. руб.': 1540199.77},\n",
       "  {'Должность': 'Старший преподаватель', 'Всего. руб.': 2808146.24}],\n",
       " 10459905.26,\n",
       " 1558290.9100000001]"
      ]
     },
     "execution_count": 6,
     "metadata": {},
     "output_type": "execute_result"
    }
   ],
   "source": [
    "# list r1=[r1a, r1b, r1c, r1d]\n",
    "r1 = [r1a, r1b, r1c, r1d]\n",
    "r1"
   ]
  },
  {
   "cell_type": "markdown",
   "metadata": {},
   "source": [
    "### 2. (1 балл) Выведите данные о структуре персонала по должностям и постройте круговую диаграмму"
   ]
  },
  {
   "cell_type": "code",
   "execution_count": 7,
   "metadata": {},
   "outputs": [
    {
     "data": {
      "text/html": [
       "<div>\n",
       "<style scoped>\n",
       "    .dataframe tbody tr th:only-of-type {\n",
       "        vertical-align: middle;\n",
       "    }\n",
       "\n",
       "    .dataframe tbody tr th {\n",
       "        vertical-align: top;\n",
       "    }\n",
       "\n",
       "    .dataframe thead th {\n",
       "        text-align: right;\n",
       "    }\n",
       "</style>\n",
       "<table border=\"1\" class=\"dataframe\">\n",
       "  <thead>\n",
       "    <tr style=\"text-align: right;\">\n",
       "      <th></th>\n",
       "      <th>Количество</th>\n",
       "    </tr>\n",
       "    <tr>\n",
       "      <th>Должность</th>\n",
       "      <th></th>\n",
       "    </tr>\n",
       "  </thead>\n",
       "  <tbody>\n",
       "    <tr>\n",
       "      <th>Доцент</th>\n",
       "      <td>337</td>\n",
       "    </tr>\n",
       "    <tr>\n",
       "      <th>Старший преподаватель</th>\n",
       "      <td>237</td>\n",
       "    </tr>\n",
       "    <tr>\n",
       "      <th>Ассистент</th>\n",
       "      <td>105</td>\n",
       "    </tr>\n",
       "    <tr>\n",
       "      <th>Профессор</th>\n",
       "      <td>80</td>\n",
       "    </tr>\n",
       "    <tr>\n",
       "      <th>Преподаватель</th>\n",
       "      <td>53</td>\n",
       "    </tr>\n",
       "  </tbody>\n",
       "</table>\n",
       "</div>"
      ],
      "text/plain": [
       "                       Количество\n",
       "Должность                        \n",
       "Доцент                        337\n",
       "Старший преподаватель         237\n",
       "Ассистент                     105\n",
       "Профессор                      80\n",
       "Преподаватель                  53"
      ]
     },
     "execution_count": 7,
     "metadata": {},
     "output_type": "execute_result"
    }
   ],
   "source": [
    "# DataFrame r2 с columns=[‘Должность’, ‘Количество’]\n",
    "r2 = pd.DataFrame(df['Должность'].value_counts())\n",
    "r2.columns = ['Количество']\n",
    "r2"
   ]
  },
  {
   "cell_type": "code",
   "execution_count": 8,
   "metadata": {},
   "outputs": [
    {
     "data": {
      "text/plain": [
       "Text(0.5, 1.0, 'Данные о структуре персонала по должностям')"
      ]
     },
     "execution_count": 8,
     "metadata": {},
     "output_type": "execute_result"
    },
    {
     "data": {
      "image/png": "[encoded data removed]",
      "text/plain": [
       "<Figure size 640x480 with 1 Axes>"
      ]
     },
     "metadata": {},
     "output_type": "display_data"
    }
   ],
   "source": [
    "plt.pie(x=r2['Количество'], labels=r2.index, autopct='%1.1f%%')\n",
    "plt.title('Данные о структуре персонала по должностям')"
   ]
  },
  {
   "cell_type": "code",
   "execution_count": 9,
   "metadata": {},
   "outputs": [
    {
     "data": {
      "text/html": [
       "<div>\n",
       "<style scoped>\n",
       "    .dataframe tbody tr th:only-of-type {\n",
       "        vertical-align: middle;\n",
       "    }\n",
       "\n",
       "    .dataframe tbody tr th {\n",
       "        vertical-align: top;\n",
       "    }\n",
       "\n",
       "    .dataframe thead th {\n",
       "        text-align: right;\n",
       "    }\n",
       "</style>\n",
       "<table border=\"1\" class=\"dataframe\">\n",
       "  <thead>\n",
       "    <tr style=\"text-align: right;\">\n",
       "      <th></th>\n",
       "      <th>Количество</th>\n",
       "    </tr>\n",
       "    <tr>\n",
       "      <th>Должность</th>\n",
       "      <th></th>\n",
       "    </tr>\n",
       "  </thead>\n",
       "  <tbody>\n",
       "    <tr>\n",
       "      <th>Доцент</th>\n",
       "      <td>300</td>\n",
       "    </tr>\n",
       "    <tr>\n",
       "      <th>Старший преподаватель</th>\n",
       "      <td>216</td>\n",
       "    </tr>\n",
       "    <tr>\n",
       "      <th>Ассистент</th>\n",
       "      <td>101</td>\n",
       "    </tr>\n",
       "    <tr>\n",
       "      <th>Профессор</th>\n",
       "      <td>71</td>\n",
       "    </tr>\n",
       "    <tr>\n",
       "      <th>Преподаватель</th>\n",
       "      <td>52</td>\n",
       "    </tr>\n",
       "  </tbody>\n",
       "</table>\n",
       "</div>"
      ],
      "text/plain": [
       "                       Количество\n",
       "Должность                        \n",
       "Доцент                        300\n",
       "Старший преподаватель         216\n",
       "Ассистент                     101\n",
       "Профессор                      71\n",
       "Преподаватель                  52"
      ]
     },
     "execution_count": 9,
     "metadata": {},
     "output_type": "execute_result"
    }
   ],
   "source": [
    "# решение с учётом того, что у одного человека может быть несколько одинаковых должностей в разных подразделениях (его учитываю за одного)\n",
    "# а человек с разными должностями считается отдельно по должностям\n",
    "other_r2 = pd.DataFrame(df.groupby(['Т/Н', 'Должность']).sum().reset_index().value_counts('Должность'))\n",
    "other_r2.columns = ['Количество']\n",
    "other_r2"
   ]
  },
  {
   "cell_type": "code",
   "execution_count": 10,
   "metadata": {},
   "outputs": [
    {
     "data": {
      "text/plain": [
       "Text(0.5, 1.0, 'Данные о структуре персонала по должностям (другое)')"
      ]
     },
     "execution_count": 10,
     "metadata": {},
     "output_type": "execute_result"
    },
    {
     "data": {
      "image/png": "[encoded data removed]",
      "text/plain": [
       "<Figure size 640x480 with 1 Axes>"
      ]
     },
     "metadata": {},
     "output_type": "display_data"
    }
   ],
   "source": [
    "plt.pie(x=other_r2['Количество'], labels=other_r2.index, autopct='%1.1f%%')\n",
    "plt.title('Данные о структуре персонала по должностям (другое)')"
   ]
  },
  {
   "cell_type": "markdown",
   "metadata": {},
   "source": [
    "### 3. (1 балл) Проанализируйте заработную плату ассистентов: \n",
    "выведите минимальную (float r3a), среднюю (float r3b) и максимальную заработную плату (float r3c) по этой категории"
   ]
  },
  {
   "cell_type": "code",
   "execution_count": 11,
   "metadata": {},
   "outputs": [
    {
     "data": {
      "text/plain": [
       "[334.39999999999964, 8693.355247524752, 21484.59]"
      ]
     },
     "execution_count": 11,
     "metadata": {},
     "output_type": "execute_result"
    }
   ],
   "source": [
    "# r3a = min, r3b = avg, r3c = max\n",
    "assist_df = df[['Т/Н', 'Должность', 'Всего. руб.']].groupby(['Т/Н', 'Должность']).sum().reset_index()\n",
    "assist_salary_stats = assist_df[assist_df['Должность'] == 'Ассистент']['Всего. руб.'].describe().to_dict()\n",
    "r3a = assist_salary_stats['min']\n",
    "r3b = assist_salary_stats['mean']\n",
    "r3c = assist_salary_stats['max']\n",
    "r3 = [r3a, r3b, r3c]\n",
    "r3"
   ]
  },
  {
   "cell_type": "markdown",
   "metadata": {},
   "source": [
    "### 4. (1 балл) Проанализируйте доцентов-внешних совместителей. \n",
    "Выведите таблицу с их группировкой по табельному номеру, представьте в таблице общую величину ставки и сумму заработной платы (DataFrame r4a с columns=[‘Т/Н’, ‘Ставка’, ‘Оклад’]). \n",
    "Выведите их численность с учётом группировки – int r4b."
   ]
  },
  {
   "cell_type": "code",
   "execution_count": 12,
   "metadata": {},
   "outputs": [
    {
     "data": {
      "text/plain": [
       "[       Т/Н  Ставка  Всего. руб.\n",
       " 0     1341    0.25     12093.36\n",
       " 1     1469    0.50      8355.50\n",
       " 2     2397    0.50      8355.50\n",
       " 3     2652    0.50      8355.50\n",
       " 4     2797    0.50     22764.48\n",
       " 5     4232    0.50      8197.72\n",
       " 6     4420    0.50     15668.67\n",
       " 7     5196    0.30      6005.24\n",
       " 8     5601    0.25     26317.74\n",
       " 9     5721    0.38      6565.26\n",
       " 10    9709    0.50     24186.70\n",
       " 11    9931    0.25     12093.36\n",
       " 12   70184    0.50      7119.68\n",
       " 13   74235    0.50     21341.70\n",
       " 14  100784    0.50      7864.00\n",
       " 15  102413    0.50     23980.06\n",
       " 16  103197    0.15      2359.21\n",
       " 17  104509    0.40      6291.20\n",
       " 18  104690    0.50     15600.98\n",
       " 19  105337    0.50     19996.90\n",
       " 20  106199    0.50     22792.48\n",
       " 21  164665    0.50      5011.88\n",
       " 22  173123    0.50      5389.38\n",
       " 23  174266    0.30     13658.80\n",
       " 24  302429    0.50     14358.72\n",
       " 25  302455    0.30      8008.72\n",
       " 26  302514    0.50     24186.70\n",
       " 27  302689    0.50     22764.48\n",
       " 28  302832    0.50     24492.09\n",
       " 29  302855    0.50     14155.19\n",
       " 30  302857    0.15      7238.66\n",
       " 31  302873    0.40     17072.82\n",
       " 32  302940    0.40     18211.36\n",
       " 33  303395    0.50     21680.56\n",
       " 34  303459    0.50     12957.16\n",
       " 35  303495    0.50      8194.47,\n",
       " 36]"
      ]
     },
     "execution_count": 12,
     "metadata": {},
     "output_type": "execute_result"
    }
   ],
   "source": [
    "# согласно заданию необходимо получить столбец с ЗП, а не окладом, в целом оклад несёт только категориальную информацию\n",
    "only_out = grouped_by_tb[(grouped_by_tb['Оклад (ставка) по основному месту работы'] == 0) &\n",
    "                         (grouped_by_tb['Оклад (ставка) на работе по совместительству'] != 0)].index # получение табельных номеров только внешних совместителей\n",
    "out_docent_df = df[df['Т/Н'].isin(only_out) & (df['Должность'] == 'Доцент')].groupby('Т/Н').sum().reset_index() # получение доцентов-внешних совместителей\n",
    "r4a = out_docent_df.drop(['Должность',\n",
    "                    'Код  подразд.',\n",
    "                    'Оклад (ставка) по основному месту работы',\n",
    "                    'Оклад (ставка) на работе по совместительству'], axis=1).reset_index(drop=True)\n",
    "r4b = out_docent_df['Т/Н'].count()\n",
    "r4 = [r4a, r4b]\n",
    "r4"
   ]
  },
  {
   "cell_type": "markdown",
   "metadata": {},
   "source": [
    "### 5. (1 балл) Проанализируйте заработную плату работников (с учётом совместительства), работающих в данной организации по основному месту работы.\n",
    "Выведите минимальную (float r5a), среднюю (float r5b) и максимальную заработную плату (float r5c) по этой категории."
   ]
  },
  {
   "cell_type": "code",
   "execution_count": 13,
   "metadata": {},
   "outputs": [
    {
     "data": {
      "text/plain": [
       "[805.5, 17596.471313131315, 55773.53]"
      ]
     },
     "execution_count": 13,
     "metadata": {},
     "output_type": "execute_result"
    }
   ],
   "source": [
    "only_local_salary = grouped_by_tb[grouped_by_tb['Оклад (ставка) по основному месту работы'] != 0]['Всего. руб.'] # получение зарплат только с основными работниками\n",
    "r5a = only_local_salary.min()\n",
    "r5b = only_local_salary.mean()\n",
    "r5c = only_local_salary.max()\n",
    "r5 = [r5a, r5b, r5c]\n",
    "r5"
   ]
  },
  {
   "cell_type": "markdown",
   "metadata": {},
   "source": [
    "### 6. (1 балл) Проведите анализ ставок внешних совместителей: \n",
    "выведите минимальную (float r6a), среднюю (float r6a) и максимальную ставку (float r6a) по этой категории."
   ]
  },
  {
   "cell_type": "code",
   "execution_count": 14,
   "metadata": {},
   "outputs": [
    {
     "data": {
      "text/plain": [
       "([0.05, 0.365, 0.5],\n",
       " count    152.000000\n",
       " mean       0.365000\n",
       " std        0.137533\n",
       " min        0.050000\n",
       " 25%        0.250000\n",
       " 50%        0.400000\n",
       " 75%        0.500000\n",
       " max        0.500000\n",
       " Name: Ставка, dtype: float64)"
      ]
     },
     "execution_count": 14,
     "metadata": {},
     "output_type": "execute_result"
    }
   ],
   "source": [
    "only_out_df = df[df['Т/Н'].isin(only_out)] # получение таблицы только с внешними совместителями\n",
    "r6a = only_out_df['Ставка'].min()\n",
    "r6b = only_out_df['Ставка'].mean()\n",
    "r6c = only_out_df['Ставка'].max()\n",
    "r6 = [r6a, r6b, r6c]\n",
    "r6, only_out_df['Ставка'].describe()"
   ]
  },
  {
   "cell_type": "markdown",
   "metadata": {},
   "source": [
    "### 7. (1 балл) Выведите список доцентов, работающих на 1,0 ст."
   ]
  },
  {
   "cell_type": "code",
   "execution_count": 15,
   "metadata": {},
   "outputs": [
    {
     "data": {
      "text/html": [
       "<div>\n",
       "<style scoped>\n",
       "    .dataframe tbody tr th:only-of-type {\n",
       "        vertical-align: middle;\n",
       "    }\n",
       "\n",
       "    .dataframe tbody tr th {\n",
       "        vertical-align: top;\n",
       "    }\n",
       "\n",
       "    .dataframe thead th {\n",
       "        text-align: right;\n",
       "    }\n",
       "</style>\n",
       "<table border=\"1\" class=\"dataframe\">\n",
       "  <thead>\n",
       "    <tr style=\"text-align: right;\">\n",
       "      <th></th>\n",
       "      <th>Т/Н</th>\n",
       "      <th>Ставка</th>\n",
       "    </tr>\n",
       "  </thead>\n",
       "  <tbody>\n",
       "    <tr>\n",
       "      <th>8</th>\n",
       "      <td>74317</td>\n",
       "      <td>1.0</td>\n",
       "    </tr>\n",
       "    <tr>\n",
       "      <th>23</th>\n",
       "      <td>1651</td>\n",
       "      <td>1.0</td>\n",
       "    </tr>\n",
       "    <tr>\n",
       "      <th>35</th>\n",
       "      <td>540</td>\n",
       "      <td>1.0</td>\n",
       "    </tr>\n",
       "    <tr>\n",
       "      <th>53</th>\n",
       "      <td>2328</td>\n",
       "      <td>1.0</td>\n",
       "    </tr>\n",
       "    <tr>\n",
       "      <th>105</th>\n",
       "      <td>1204</td>\n",
       "      <td>1.0</td>\n",
       "    </tr>\n",
       "    <tr>\n",
       "      <th>148</th>\n",
       "      <td>103707</td>\n",
       "      <td>1.0</td>\n",
       "    </tr>\n",
       "    <tr>\n",
       "      <th>167</th>\n",
       "      <td>165021</td>\n",
       "      <td>1.0</td>\n",
       "    </tr>\n",
       "    <tr>\n",
       "      <th>191</th>\n",
       "      <td>114</td>\n",
       "      <td>1.0</td>\n",
       "    </tr>\n",
       "    <tr>\n",
       "      <th>251</th>\n",
       "      <td>70812</td>\n",
       "      <td>1.0</td>\n",
       "    </tr>\n",
       "    <tr>\n",
       "      <th>255</th>\n",
       "      <td>2937</td>\n",
       "      <td>1.0</td>\n",
       "    </tr>\n",
       "    <tr>\n",
       "      <th>265</th>\n",
       "      <td>165283</td>\n",
       "      <td>1.0</td>\n",
       "    </tr>\n",
       "    <tr>\n",
       "      <th>269</th>\n",
       "      <td>74763</td>\n",
       "      <td>1.0</td>\n",
       "    </tr>\n",
       "    <tr>\n",
       "      <th>276</th>\n",
       "      <td>300848</td>\n",
       "      <td>1.0</td>\n",
       "    </tr>\n",
       "    <tr>\n",
       "      <th>292</th>\n",
       "      <td>1576</td>\n",
       "      <td>1.0</td>\n",
       "    </tr>\n",
       "    <tr>\n",
       "      <th>297</th>\n",
       "      <td>2327</td>\n",
       "      <td>1.0</td>\n",
       "    </tr>\n",
       "    <tr>\n",
       "      <th>357</th>\n",
       "      <td>160954</td>\n",
       "      <td>1.0</td>\n",
       "    </tr>\n",
       "    <tr>\n",
       "      <th>371</th>\n",
       "      <td>1504</td>\n",
       "      <td>1.0</td>\n",
       "    </tr>\n",
       "    <tr>\n",
       "      <th>374</th>\n",
       "      <td>2383</td>\n",
       "      <td>1.0</td>\n",
       "    </tr>\n",
       "    <tr>\n",
       "      <th>404</th>\n",
       "      <td>1250</td>\n",
       "      <td>1.0</td>\n",
       "    </tr>\n",
       "    <tr>\n",
       "      <th>409</th>\n",
       "      <td>100364</td>\n",
       "      <td>1.0</td>\n",
       "    </tr>\n",
       "    <tr>\n",
       "      <th>414</th>\n",
       "      <td>74332</td>\n",
       "      <td>1.0</td>\n",
       "    </tr>\n",
       "    <tr>\n",
       "      <th>424</th>\n",
       "      <td>4544</td>\n",
       "      <td>1.0</td>\n",
       "    </tr>\n",
       "    <tr>\n",
       "      <th>448</th>\n",
       "      <td>5703</td>\n",
       "      <td>1.0</td>\n",
       "    </tr>\n",
       "    <tr>\n",
       "      <th>462</th>\n",
       "      <td>167182</td>\n",
       "      <td>1.0</td>\n",
       "    </tr>\n",
       "    <tr>\n",
       "      <th>477</th>\n",
       "      <td>164775</td>\n",
       "      <td>1.0</td>\n",
       "    </tr>\n",
       "    <tr>\n",
       "      <th>520</th>\n",
       "      <td>2774</td>\n",
       "      <td>1.0</td>\n",
       "    </tr>\n",
       "    <tr>\n",
       "      <th>565</th>\n",
       "      <td>5230</td>\n",
       "      <td>1.0</td>\n",
       "    </tr>\n",
       "    <tr>\n",
       "      <th>570</th>\n",
       "      <td>2263</td>\n",
       "      <td>1.0</td>\n",
       "    </tr>\n",
       "    <tr>\n",
       "      <th>587</th>\n",
       "      <td>2293</td>\n",
       "      <td>1.0</td>\n",
       "    </tr>\n",
       "    <tr>\n",
       "      <th>665</th>\n",
       "      <td>2454</td>\n",
       "      <td>1.0</td>\n",
       "    </tr>\n",
       "    <tr>\n",
       "      <th>712</th>\n",
       "      <td>74635</td>\n",
       "      <td>1.0</td>\n",
       "    </tr>\n",
       "    <tr>\n",
       "      <th>748</th>\n",
       "      <td>585</td>\n",
       "      <td>1.0</td>\n",
       "    </tr>\n",
       "    <tr>\n",
       "      <th>769</th>\n",
       "      <td>1616</td>\n",
       "      <td>1.0</td>\n",
       "    </tr>\n",
       "    <tr>\n",
       "      <th>782</th>\n",
       "      <td>155716</td>\n",
       "      <td>1.0</td>\n",
       "    </tr>\n",
       "    <tr>\n",
       "      <th>794</th>\n",
       "      <td>70766</td>\n",
       "      <td>1.0</td>\n",
       "    </tr>\n",
       "    <tr>\n",
       "      <th>795</th>\n",
       "      <td>106038</td>\n",
       "      <td>1.0</td>\n",
       "    </tr>\n",
       "    <tr>\n",
       "      <th>801</th>\n",
       "      <td>161208</td>\n",
       "      <td>1.0</td>\n",
       "    </tr>\n",
       "    <tr>\n",
       "      <th>804</th>\n",
       "      <td>303567</td>\n",
       "      <td>1.0</td>\n",
       "    </tr>\n",
       "  </tbody>\n",
       "</table>\n",
       "</div>"
      ],
      "text/plain": [
       "        Т/Н  Ставка\n",
       "8     74317     1.0\n",
       "23     1651     1.0\n",
       "35      540     1.0\n",
       "53     2328     1.0\n",
       "105    1204     1.0\n",
       "148  103707     1.0\n",
       "167  165021     1.0\n",
       "191     114     1.0\n",
       "251   70812     1.0\n",
       "255    2937     1.0\n",
       "265  165283     1.0\n",
       "269   74763     1.0\n",
       "276  300848     1.0\n",
       "292    1576     1.0\n",
       "297    2327     1.0\n",
       "357  160954     1.0\n",
       "371    1504     1.0\n",
       "374    2383     1.0\n",
       "404    1250     1.0\n",
       "409  100364     1.0\n",
       "414   74332     1.0\n",
       "424    4544     1.0\n",
       "448    5703     1.0\n",
       "462  167182     1.0\n",
       "477  164775     1.0\n",
       "520    2774     1.0\n",
       "565    5230     1.0\n",
       "570    2263     1.0\n",
       "587    2293     1.0\n",
       "665    2454     1.0\n",
       "712   74635     1.0\n",
       "748     585     1.0\n",
       "769    1616     1.0\n",
       "782  155716     1.0\n",
       "794   70766     1.0\n",
       "795  106038     1.0\n",
       "801  161208     1.0\n",
       "804  303567     1.0"
      ]
     },
     "execution_count": 15,
     "metadata": {},
     "output_type": "execute_result"
    }
   ],
   "source": [
    "r7 = df[(df['Должность'] == 'Доцент') & (df['Ставка'] == 1)][['Т/Н', 'Ставка']]\n",
    "r7"
   ]
  },
  {
   "cell_type": "markdown",
   "metadata": {},
   "source": [
    "### 8. (1 балл) Найдите самого незагруженного по основному месту работы сотрудника."
   ]
  },
  {
   "cell_type": "code",
   "execution_count": 16,
   "metadata": {},
   "outputs": [
    {
     "data": {
      "text/html": [
       "<div>\n",
       "<style scoped>\n",
       "    .dataframe tbody tr th:only-of-type {\n",
       "        vertical-align: middle;\n",
       "    }\n",
       "\n",
       "    .dataframe tbody tr th {\n",
       "        vertical-align: top;\n",
       "    }\n",
       "\n",
       "    .dataframe thead th {\n",
       "        text-align: right;\n",
       "    }\n",
       "</style>\n",
       "<table border=\"1\" class=\"dataframe\">\n",
       "  <thead>\n",
       "    <tr style=\"text-align: right;\">\n",
       "      <th></th>\n",
       "      <th>Т/Н</th>\n",
       "      <th>Ставка</th>\n",
       "    </tr>\n",
       "  </thead>\n",
       "  <tbody>\n",
       "    <tr>\n",
       "      <th>308</th>\n",
       "      <td>303612</td>\n",
       "      <td>0.05</td>\n",
       "    </tr>\n",
       "  </tbody>\n",
       "</table>\n",
       "</div>"
      ],
      "text/plain": [
       "        Т/Н  Ставка\n",
       "308  303612    0.05"
      ]
     },
     "execution_count": 16,
     "metadata": {},
     "output_type": "execute_result"
    }
   ],
   "source": [
    "only_local = grouped_by_tb[(grouped_by_tb['Оклад (ставка) по основному месту работы'] != 0)].index # получение табельных номеров только внутренних сотрудников\n",
    "least_loaded = df[df['Т/Н'].isin(only_local) & df['Оклад (ставка) по основному месту работы'].notna()].sort_values('Ставка').head(1)\n",
    "r8 = least_loaded[['Т/Н', 'Ставка']]\n",
    "r8"
   ]
  },
  {
   "cell_type": "markdown",
   "metadata": {},
   "source": [
    "### Результат"
   ]
  },
  {
   "cell_type": "code",
   "execution_count": 17,
   "metadata": {},
   "outputs": [
    {
     "data": {
      "text/plain": [
       "[[12018196.17,\n",
       "  [{'Должность': 'Ассистент', 'Всего. руб.': 878028.88},\n",
       "   {'Должность': 'Доцент', 'Всего. руб.': 6227156.38},\n",
       "   {'Должность': 'Преподаватель', 'Всего. руб.': 564664.9},\n",
       "   {'Должность': 'Профессор', 'Всего. руб.': 1540199.77},\n",
       "   {'Должность': 'Старший преподаватель', 'Всего. руб.': 2808146.24}],\n",
       "  10459905.26,\n",
       "  1558290.9100000001],\n",
       "                        Количество\n",
       " Должность                        \n",
       " Доцент                        337\n",
       " Старший преподаватель         237\n",
       " Ассистент                     105\n",
       " Профессор                      80\n",
       " Преподаватель                  53,\n",
       " [334.39999999999964, 8693.355247524752, 21484.59],\n",
       " [       Т/Н  Ставка  Всего. руб.\n",
       "  0     1341    0.25     12093.36\n",
       "  1     1469    0.50      8355.50\n",
       "  2     2397    0.50      8355.50\n",
       "  3     2652    0.50      8355.50\n",
       "  4     2797    0.50     22764.48\n",
       "  5     4232    0.50      8197.72\n",
       "  6     4420    0.50     15668.67\n",
       "  7     5196    0.30      6005.24\n",
       "  8     5601    0.25     26317.74\n",
       "  9     5721    0.38      6565.26\n",
       "  10    9709    0.50     24186.70\n",
       "  11    9931    0.25     12093.36\n",
       "  12   70184    0.50      7119.68\n",
       "  13   74235    0.50     21341.70\n",
       "  14  100784    0.50      7864.00\n",
       "  15  102413    0.50     23980.06\n",
       "  16  103197    0.15      2359.21\n",
       "  17  104509    0.40      6291.20\n",
       "  18  104690    0.50     15600.98\n",
       "  19  105337    0.50     19996.90\n",
       "  20  106199    0.50     22792.48\n",
       "  21  164665    0.50      5011.88\n",
       "  22  173123    0.50      5389.38\n",
       "  23  174266    0.30     13658.80\n",
       "  24  302429    0.50     14358.72\n",
       "  25  302455    0.30      8008.72\n",
       "  26  302514    0.50     24186.70\n",
       "  27  302689    0.50     22764.48\n",
       "  28  302832    0.50     24492.09\n",
       "  29  302855    0.50     14155.19\n",
       "  30  302857    0.15      7238.66\n",
       "  31  302873    0.40     17072.82\n",
       "  32  302940    0.40     18211.36\n",
       "  33  303395    0.50     21680.56\n",
       "  34  303459    0.50     12957.16\n",
       "  35  303495    0.50      8194.47,\n",
       "  36],\n",
       " [805.5, 17596.471313131315, 55773.53],\n",
       " [0.05, 0.365, 0.5],\n",
       "         Т/Н  Ставка\n",
       " 8     74317     1.0\n",
       " 23     1651     1.0\n",
       " 35      540     1.0\n",
       " 53     2328     1.0\n",
       " 105    1204     1.0\n",
       " 148  103707     1.0\n",
       " 167  165021     1.0\n",
       " 191     114     1.0\n",
       " 251   70812     1.0\n",
       " 255    2937     1.0\n",
       " 265  165283     1.0\n",
       " 269   74763     1.0\n",
       " 276  300848     1.0\n",
       " 292    1576     1.0\n",
       " 297    2327     1.0\n",
       " 357  160954     1.0\n",
       " 371    1504     1.0\n",
       " 374    2383     1.0\n",
       " 404    1250     1.0\n",
       " 409  100364     1.0\n",
       " 414   74332     1.0\n",
       " 424    4544     1.0\n",
       " 448    5703     1.0\n",
       " 462  167182     1.0\n",
       " 477  164775     1.0\n",
       " 520    2774     1.0\n",
       " 565    5230     1.0\n",
       " 570    2263     1.0\n",
       " 587    2293     1.0\n",
       " 665    2454     1.0\n",
       " 712   74635     1.0\n",
       " 748     585     1.0\n",
       " 769    1616     1.0\n",
       " 782  155716     1.0\n",
       " 794   70766     1.0\n",
       " 795  106038     1.0\n",
       " 801  161208     1.0\n",
       " 804  303567     1.0,\n",
       "         Т/Н  Ставка\n",
       " 308  303612    0.05]"
      ]
     },
     "execution_count": 17,
     "metadata": {},
     "output_type": "execute_result"
    }
   ],
   "source": [
    "r = [r1, r2, r3, r4, r5, r6, r7, r8]\n",
    "r"
   ]
  },
  {
   "cell_type": "markdown",
   "metadata": {},
   "source": [
    "### 9. (2 балла) Постройте графики формирования ФОТ от меньших зарплат к большим для:\n",
    "\n",
    "    а) всей организации;\n",
    "\n",
    "    б) работников, чьё основное место работы находится в организации (с учётом внутреннего совместительства);\n",
    "\n",
    "    в) внешних совместителей.\n"
   ]
  },
  {
   "cell_type": "code",
   "execution_count": 18,
   "metadata": {},
   "outputs": [
    {
     "data": {
      "text/plain": [
       "Text(0.5, 1.0, 'Данные о структуре персонала по должностям')"
      ]
     },
     "execution_count": 18,
     "metadata": {},
     "output_type": "execute_result"
    },
    {
     "data": {
      "image/png": "[encoded data removed]",
      "text/plain": [
       "<Figure size 1800x800 with 2 Axes>"
      ]
     },
     "metadata": {},
     "output_type": "display_data"
    }
   ],
   "source": [
    "df = df.sort_values('Всего. руб.', ascending=True).reset_index(drop=True)\n",
    "plt.figure(figsize=(18,8))\n",
    "plt.subplot(1, 2, 1)\n",
    "X_1 = df.index\n",
    "Y_1 = df['Всего. руб.']\n",
    "X_2 = df[df['Т/Н'].isin(only_local)].reset_index().index\n",
    "Y_2 = df[df['Т/Н'].isin(only_local)].reset_index()['Всего. руб.']\n",
    "X_3 = df[df['Т/Н'].isin(only_out)].reset_index().index\n",
    "Y_3 = df[df['Т/Н'].isin(only_out)].reset_index()['Всего. руб.']\n",
    "plt.plot(X_1, Y_1, label='ФОТ всей организации')\n",
    "plt.plot(X_2, Y_2, label='ФОТ основных сотрудников')\n",
    "plt.plot(X_3, Y_3, label='ФОТ внешних совместителей')\n",
    "plt.title('Графики формирования ФОТ ')\n",
    "plt.ylabel('З/П')\n",
    "plt.grid(True)\n",
    "plt.legend()\n",
    "\n",
    "plt.subplot(1, 2, 2)\n",
    "plt.pie(x=r2['Количество'], labels=r2.index, autopct='%1.1f%%')\n",
    "plt.title('Данные о структуре персонала по должностям')"
   ]
  },
  {
   "cell_type": "code",
   "execution_count": 19,
   "metadata": {},
   "outputs": [
    {
     "data": {
      "text/plain": [
       "(594, 142, 736)"
      ]
     },
     "execution_count": 19,
     "metadata": {},
     "output_type": "execute_result"
    }
   ],
   "source": [
    "len(only_local), len(only_out), len(only_local)+len(only_out) # проверил всех ли захватил в отдельных выборках на местных и внешних"
   ]
  },
  {
   "cell_type": "code",
   "execution_count": 20,
   "metadata": {},
   "outputs": [
    {
     "data": {
      "text/plain": [
       "738"
      ]
     },
     "execution_count": 20,
     "metadata": {},
     "output_type": "execute_result"
    }
   ],
   "source": [
    "len(df['Т/Н'].drop_duplicates()) # посмотрел суммарное количество всех сотрудников в таблице и увидел, что 2х не хватает"
   ]
  },
  {
   "cell_type": "code",
   "execution_count": 21,
   "metadata": {},
   "outputs": [
    {
     "data": {
      "text/html": [
       "<div>\n",
       "<style scoped>\n",
       "    .dataframe tbody tr th:only-of-type {\n",
       "        vertical-align: middle;\n",
       "    }\n",
       "\n",
       "    .dataframe tbody tr th {\n",
       "        vertical-align: top;\n",
       "    }\n",
       "\n",
       "    .dataframe thead th {\n",
       "        text-align: right;\n",
       "    }\n",
       "</style>\n",
       "<table border=\"1\" class=\"dataframe\">\n",
       "  <thead>\n",
       "    <tr style=\"text-align: right;\">\n",
       "      <th></th>\n",
       "      <th>Т/Н</th>\n",
       "      <th>Должность</th>\n",
       "      <th>Ставка</th>\n",
       "      <th>Код  подразд.</th>\n",
       "      <th>Оклад (ставка) по основному месту работы</th>\n",
       "      <th>Оклад (ставка) на работе по совместительству</th>\n",
       "      <th>Всего. руб.</th>\n",
       "    </tr>\n",
       "  </thead>\n",
       "  <tbody>\n",
       "    <tr>\n",
       "      <th>0</th>\n",
       "      <td>303082</td>\n",
       "      <td>Ассистент</td>\n",
       "      <td>1.25</td>\n",
       "      <td>170607.0</td>\n",
       "      <td>NaN</td>\n",
       "      <td>NaN</td>\n",
       "      <td>-2874.55</td>\n",
       "    </tr>\n",
       "    <tr>\n",
       "      <th>62</th>\n",
       "      <td>303082</td>\n",
       "      <td>Ассистент</td>\n",
       "      <td>1.00</td>\n",
       "      <td>170607.0</td>\n",
       "      <td>NaN</td>\n",
       "      <td>NaN</td>\n",
       "      <td>3208.95</td>\n",
       "    </tr>\n",
       "    <tr>\n",
       "      <th>171</th>\n",
       "      <td>302684</td>\n",
       "      <td>Преподаватель</td>\n",
       "      <td>0.50</td>\n",
       "      <td>170702.0</td>\n",
       "      <td>NaN</td>\n",
       "      <td>NaN</td>\n",
       "      <td>7266.90</td>\n",
       "    </tr>\n",
       "  </tbody>\n",
       "</table>\n",
       "</div>"
      ],
      "text/plain": [
       "        Т/Н      Должность  Ставка  Код  подразд.  \\\n",
       "0    303082      Ассистент    1.25       170607.0   \n",
       "62   303082      Ассистент    1.00       170607.0   \n",
       "171  302684  Преподаватель    0.50       170702.0   \n",
       "\n",
       "     Оклад (ставка) по основному месту работы  \\\n",
       "0                                         NaN   \n",
       "62                                        NaN   \n",
       "171                                       NaN   \n",
       "\n",
       "     Оклад (ставка) на работе по совместительству  Всего. руб.  \n",
       "0                                             NaN     -2874.55  \n",
       "62                                            NaN      3208.95  \n",
       "171                                           NaN      7266.90  "
      ]
     },
     "execution_count": 21,
     "metadata": {},
     "output_type": "execute_result"
    }
   ],
   "source": [
    "df[df['Оклад (ставка) на работе по совместительству'].isna() & df['Оклад (ставка) по основному месту работы'].isna()] # два не местных и не внешних"
   ]
  },
  {
   "cell_type": "code",
   "execution_count": 22,
   "metadata": {},
   "outputs": [
    {
     "data": {
      "text/plain": [
       "(False, False, False, False)"
      ]
     },
     "execution_count": 22,
     "metadata": {},
     "output_type": "execute_result"
    }
   ],
   "source": [
    "303082 in only_local, 302684 in only_local, 303082 in only_out, 302684 in only_out # их нет нигде"
   ]
  },
  {
   "cell_type": "code",
   "execution_count": 23,
   "metadata": {},
   "outputs": [],
   "source": [
    "# проверка на пересечение\n",
    "for num in only_local:\n",
    "    for num_out in only_out:\n",
    "        if num == num_out:\n",
    "            print(num, num_out)"
   ]
  }
 ],
 "metadata": {
  "kernelspec": {
   "display_name": "Python 3",
   "language": "python",
   "name": "python3"
  },
  "language_info": {
   "codemirror_mode": {
    "name": "ipython",
    "version": 3
   },
   "file_extension": ".py",
   "mimetype": "text/x-python",
   "name": "python",
   "nbconvert_exporter": "python",
   "pygments_lexer": "ipython3",
   "version": "3.11.4"
  }
 },
 "nbformat": 4,
 "nbformat_minor": 2
}
